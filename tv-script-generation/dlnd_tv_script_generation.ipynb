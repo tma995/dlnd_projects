{
 "cells": [
  {
   "cell_type": "markdown",
   "metadata": {
    "deletable": true,
    "editable": true
   },
   "source": [
    "# TV Script Generation\n",
    "In this project, you'll generate your own [Simpsons](https://en.wikipedia.org/wiki/The_Simpsons) TV scripts using RNNs.  You'll be using part of the [Simpsons dataset](https://www.kaggle.com/wcukierski/the-simpsons-by-the-data) of scripts from 27 seasons.  The Neural Network you'll build will generate a new TV script for a scene at [Moe's Tavern](https://simpsonswiki.com/wiki/Moe's_Tavern).\n",
    "## Get the Data\n",
    "The data is already provided for you.  You'll be using a subset of the original dataset.  It consists of only the scenes in Moe's Tavern.  This doesn't include other versions of the tavern, like \"Moe's Cavern\", \"Flaming Moe's\", \"Uncle Moe's Family Feed-Bag\", etc.."
   ]
  },
  {
   "cell_type": "code",
   "execution_count": 1,
   "metadata": {
    "collapsed": false,
    "deletable": true,
    "editable": true
   },
   "outputs": [],
   "source": [
    "\"\"\"\n",
    "DON'T MODIFY ANYTHING IN THIS CELL\n",
    "\"\"\"\n",
    "import helper\n",
    "\n",
    "data_dir = './data/simpsons/moes_tavern_lines.txt'\n",
    "text = helper.load_data(data_dir)\n",
    "# Ignore notice, since we don't use it for analysing the data\n",
    "text = text[81:]"
   ]
  },
  {
   "cell_type": "markdown",
   "metadata": {
    "deletable": true,
    "editable": true
   },
   "source": [
    "## Explore the Data\n",
    "Play around with `view_sentence_range` to view different parts of the data."
   ]
  },
  {
   "cell_type": "code",
   "execution_count": 2,
   "metadata": {
    "collapsed": false,
    "deletable": true,
    "editable": true
   },
   "outputs": [
    {
     "name": "stdout",
     "output_type": "stream",
     "text": [
      "Dataset Stats\n",
      "Roughly the number of unique words: 11492\n",
      "Number of scenes: 262\n",
      "Average number of sentences in each scene: 15.248091603053435\n",
      "Number of lines: 4257\n",
      "Average number of words in each line: 11.50434578341555\n",
      "\n",
      "The sentences 0 to 10:\n",
      "Moe_Szyslak: (INTO PHONE) Moe's Tavern. Where the elite meet to drink.\n",
      "Bart_Simpson: Eh, yeah, hello, is Mike there? Last name, Rotch.\n",
      "Moe_Szyslak: (INTO PHONE) Hold on, I'll check. (TO BARFLIES) Mike Rotch. Mike Rotch. Hey, has anybody seen Mike Rotch, lately?\n",
      "Moe_Szyslak: (INTO PHONE) Listen you little puke. One of these days I'm gonna catch you, and I'm gonna carve my name on your back with an ice pick.\n",
      "Moe_Szyslak: What's the matter Homer? You're not your normal effervescent self.\n",
      "Homer_Simpson: I got my problems, Moe. Give me another one.\n",
      "Moe_Szyslak: Homer, hey, you should not drink to forget your problems.\n",
      "Barney_Gumble: Yeah, you should only drink to enhance your social skills.\n",
      "\n",
      "\n"
     ]
    }
   ],
   "source": [
    "view_sentence_range = (0, 10)\n",
    "\n",
    "\"\"\"\n",
    "DON'T MODIFY ANYTHING IN THIS CELL\n",
    "\"\"\"\n",
    "import numpy as np\n",
    "\n",
    "print('Dataset Stats')\n",
    "print('Roughly the number of unique words: {}'.format(len({word: None for word in text.split()})))\n",
    "scenes = text.split('\\n\\n')\n",
    "print('Number of scenes: {}'.format(len(scenes)))\n",
    "sentence_count_scene = [scene.count('\\n') for scene in scenes]\n",
    "print('Average number of sentences in each scene: {}'.format(np.average(sentence_count_scene)))\n",
    "\n",
    "sentences = [sentence for scene in scenes for sentence in scene.split('\\n')]\n",
    "print('Number of lines: {}'.format(len(sentences)))\n",
    "word_count_sentence = [len(sentence.split()) for sentence in sentences]\n",
    "print('Average number of words in each line: {}'.format(np.average(word_count_sentence)))\n",
    "\n",
    "print()\n",
    "print('The sentences {} to {}:'.format(*view_sentence_range))\n",
    "print('\\n'.join(text.split('\\n')[view_sentence_range[0]:view_sentence_range[1]]))"
   ]
  },
  {
   "cell_type": "markdown",
   "metadata": {
    "deletable": true,
    "editable": true
   },
   "source": [
    "## Implement Preprocessing Functions\n",
    "The first thing to do to any dataset is preprocessing.  Implement the following preprocessing functions below:\n",
    "- Lookup Table\n",
    "- Tokenize Punctuation\n",
    "\n",
    "### Lookup Table\n",
    "To create a word embedding, you first need to transform the words to ids.  In this function, create two dictionaries:\n",
    "- Dictionary to go from the words to an id, we'll call `vocab_to_int`\n",
    "- Dictionary to go from the id to word, we'll call `int_to_vocab`\n",
    "\n",
    "Return these dictionaries in the following tuple `(vocab_to_int, int_to_vocab)`"
   ]
  },
  {
   "cell_type": "code",
   "execution_count": 3,
   "metadata": {
    "collapsed": false,
    "deletable": true,
    "editable": true
   },
   "outputs": [
    {
     "name": "stdout",
     "output_type": "stream",
     "text": [
      "Tests Passed\n"
     ]
    }
   ],
   "source": [
    "import numpy as np\n",
    "import problem_unittests as tests\n",
    "\n",
    "from string import punctuation\n",
    "from collections import Counter\n",
    "\n",
    "def create_lookup_tables(text):\n",
    "    \"\"\"\n",
    "    Create lookup tables for vocabulary\n",
    "    :param text: The text of tv scripts split into words\n",
    "    :return: A tuple of dicts (vocab_to_int, int_to_vocab)\n",
    "    \"\"\"\n",
    "    # TODO: Implement Function\n",
    "    #print(type(text))\n",
    "    #scenes = text.split('\\n\\n')\n",
    "    #sentences = [sentence for scene in scenes for sentence in scene.split('\\n')]\n",
    "    #all_text = ''.join([ c.lower() if c not in punctuation else ' ' for sentence in sentences for c in sentence ])\n",
    "    #words = all_text.split()\n",
    "    word_counts = Counter(text)\n",
    "    \n",
    "    sorted_vocab = sorted(word_counts, key=word_counts.get, reverse=True)\n",
    "    int_to_vocab = {ii: word for ii, word in enumerate(sorted_vocab)}\n",
    "    vocab_to_int = {word: ii for ii, word in int_to_vocab.items()}\n",
    "\n",
    "    return vocab_to_int, int_to_vocab\n",
    "\n",
    "\n",
    "\"\"\"\n",
    "DON'T MODIFY ANYTHING IN THIS CELL THAT IS BELOW THIS LINE\n",
    "\"\"\"\n",
    "tests.test_create_lookup_tables(create_lookup_tables)"
   ]
  },
  {
   "cell_type": "markdown",
   "metadata": {
    "deletable": true,
    "editable": true
   },
   "source": [
    "### Tokenize Punctuation\n",
    "We'll be splitting the script into a word array using spaces as delimiters.  However, punctuations like periods and exclamation marks make it hard for the neural network to distinguish between the word \"bye\" and \"bye!\".\n",
    "\n",
    "Implement the function `token_lookup` to return a dict that will be used to tokenize symbols like \"!\" into \"||Exclamation_Mark||\".  Create a dictionary for the following symbols where the symbol is the key and value is the token:\n",
    "- Period ( . )\n",
    "- Comma ( , )\n",
    "- Quotation Mark ( \" )\n",
    "- Semicolon ( ; )\n",
    "- Exclamation mark ( ! )\n",
    "- Question mark ( ? )\n",
    "- Left Parentheses ( ( )\n",
    "- Right Parentheses ( ) )\n",
    "- Dash ( -- )\n",
    "- Return ( \\n )\n",
    "\n",
    "This dictionary will be used to token the symbols and add the delimiter (space) around it.  This separates the symbols as it's own word, making it easier for the neural network to predict on the next word. Make sure you don't use a token that could be confused as a word. Instead of using the token \"dash\", try using something like \"||dash||\"."
   ]
  },
  {
   "cell_type": "code",
   "execution_count": 4,
   "metadata": {
    "collapsed": false,
    "deletable": true,
    "editable": true
   },
   "outputs": [
    {
     "name": "stdout",
     "output_type": "stream",
     "text": [
      "Tests Passed\n"
     ]
    }
   ],
   "source": [
    "def token_lookup():\n",
    "    \"\"\"\n",
    "    Generate a dict to turn punctuation into a token.\n",
    "    :return: Tokenize dictionary where the key is the punctuation and the value is the token\n",
    "    \"\"\"\n",
    "    # TODO: Implement Function\n",
    "    dict_token = {\n",
    "        '.':  '||period||',\n",
    "        ',':  '||comma||',\n",
    "        '\"':  '||quotation_mark||',\n",
    "        ';':  '||semicolon||',\n",
    "        '!':  '||exclamation_mark||',\n",
    "        '?':  '||question_mark||',\n",
    "        '(':  '||left_parentheses||',\n",
    "        ')':  '||right_parentheses||',\n",
    "        '--': '||dash||',\n",
    "        '\\n': '||return||',\n",
    "    }\n",
    "    \n",
    "    return dict_token\n",
    "\n",
    "\"\"\"\n",
    "DON'T MODIFY ANYTHING IN THIS CELL THAT IS BELOW THIS LINE\n",
    "\"\"\"\n",
    "tests.test_tokenize(token_lookup)"
   ]
  },
  {
   "cell_type": "markdown",
   "metadata": {
    "deletable": true,
    "editable": true
   },
   "source": [
    "## Preprocess all the data and save it\n",
    "Running the code cell below will preprocess all the data and save it to file."
   ]
  },
  {
   "cell_type": "code",
   "execution_count": 5,
   "metadata": {
    "collapsed": false,
    "deletable": true,
    "editable": true
   },
   "outputs": [],
   "source": [
    "\"\"\"\n",
    "DON'T MODIFY ANYTHING IN THIS CELL\n",
    "\"\"\"\n",
    "# Preprocess Training, Validation, and Testing Data\n",
    "helper.preprocess_and_save_data(data_dir, token_lookup, create_lookup_tables)"
   ]
  },
  {
   "cell_type": "markdown",
   "metadata": {
    "deletable": true,
    "editable": true
   },
   "source": [
    "# Check Point\n",
    "This is your first checkpoint. If you ever decide to come back to this notebook or have to restart the notebook, you can start from here. The preprocessed data has been saved to disk."
   ]
  },
  {
   "cell_type": "code",
   "execution_count": 6,
   "metadata": {
    "collapsed": false,
    "deletable": true,
    "editable": true
   },
   "outputs": [],
   "source": [
    "\"\"\"\n",
    "DON'T MODIFY ANYTHING IN THIS CELL\n",
    "\"\"\"\n",
    "import helper\n",
    "import numpy as np\n",
    "import problem_unittests as tests\n",
    "\n",
    "int_text, vocab_to_int, int_to_vocab, token_dict = helper.load_preprocess()"
   ]
  },
  {
   "cell_type": "markdown",
   "metadata": {
    "deletable": true,
    "editable": true
   },
   "source": [
    "## Build the Neural Network\n",
    "You'll build the components necessary to build a RNN by implementing the following functions below:\n",
    "- get_inputs\n",
    "- get_init_cell\n",
    "- get_embed\n",
    "- build_rnn\n",
    "- build_nn\n",
    "- get_batches\n",
    "\n",
    "### Check the Version of TensorFlow and Access to GPU"
   ]
  },
  {
   "cell_type": "code",
   "execution_count": 11,
   "metadata": {
    "collapsed": false
   },
   "outputs": [
    {
     "name": "stdout",
     "output_type": "stream",
     "text": [
      "TensorFlow Version: 1.0.0\n"
     ]
    },
    {
     "name": "stderr",
     "output_type": "stream",
     "text": [
      "/Users/mtx/anaconda/envs/dlnd-tf-lab/lib/python3.5/site-packages/ipykernel/__main__.py:14: UserWarning: No GPU found. Please use a GPU to train your neural network.\n"
     ]
    }
   ],
   "source": [
    "\"\"\"\n",
    "DON'T MODIFY ANYTHING IN THIS CELL\n",
    "\"\"\"\n",
    "from distutils.version import LooseVersion\n",
    "import warnings\n",
    "import tensorflow as tf\n",
    "\n",
    "# Check TensorFlow Version\n",
    "assert LooseVersion(tf.__version__) >= LooseVersion('1.0'), 'Please use TensorFlow version 1.0 or newer'\n",
    "print('TensorFlow Version: {}'.format(tf.__version__))\n",
    "\n",
    "# Check for a GPU\n",
    "if not tf.test.gpu_device_name():\n",
    "    warnings.warn('No GPU found. Please use a GPU to train your neural network.')\n",
    "else:\n",
    "    print('Default GPU Device: {}'.format(tf.test.gpu_device_name()))"
   ]
  },
  {
   "cell_type": "markdown",
   "metadata": {},
   "source": [
    "### Input\n",
    "Implement the `get_inputs()` function to create TF Placeholders for the Neural Network.  It should create the following placeholders:\n",
    "- Input text placeholder named \"input\" using the [TF Placeholder](https://www.tensorflow.org/api_docs/python/tf/placeholder) `name` parameter.\n",
    "- Targets placeholder\n",
    "- Learning Rate placeholder\n",
    "\n",
    "Return the placeholders in the following tuple `(Input, Targets, LearningRate)`"
   ]
  },
  {
   "cell_type": "code",
   "execution_count": 14,
   "metadata": {
    "collapsed": false,
    "deletable": true,
    "editable": true
   },
   "outputs": [
    {
     "name": "stdout",
     "output_type": "stream",
     "text": [
      "Tests Passed\n"
     ]
    }
   ],
   "source": [
    "def get_inputs():\n",
    "    \"\"\"\n",
    "    Create TF Placeholders for input, targets, and learning rate.\n",
    "    :return: Tuple (input, targets, learning rate)\n",
    "    \"\"\"\n",
    "    # TODO: Implement Function\n",
    "    Input = tf.placeholder(tf.int32, [None, None], name='input')\n",
    "    Targets = tf.placeholder(tf.int32, [None, None], name='target')\n",
    "    LearningRate = tf.placeholder(tf.float32,name='learning_rate')\n",
    "    \n",
    "    return Input, Targets, LearningRate\n",
    "\n",
    "\n",
    "\"\"\"\n",
    "DON'T MODIFY ANYTHING IN THIS CELL THAT IS BELOW THIS LINE\n",
    "\"\"\"\n",
    "tests.test_get_inputs(get_inputs)"
   ]
  },
  {
   "cell_type": "markdown",
   "metadata": {
    "deletable": true,
    "editable": true
   },
   "source": [
    "### Build RNN Cell and Initialize\n",
    "Stack one or more [`BasicLSTMCells`](https://www.tensorflow.org/api_docs/python/tf/contrib/rnn/BasicLSTMCell) in a [`MultiRNNCell`](https://www.tensorflow.org/api_docs/python/tf/contrib/rnn/MultiRNNCell).\n",
    "- The Rnn size should be set using `rnn_size`\n",
    "- Initalize Cell State using the MultiRNNCell's [`zero_state()`](https://www.tensorflow.org/api_docs/python/tf/contrib/rnn/MultiRNNCell#zero_state) function\n",
    "    - Apply the name \"initial_state\" to the initial state using [`tf.identity()`](https://www.tensorflow.org/api_docs/python/tf/identity)\n",
    "\n",
    "Return the cell and initial state in the following tuple `(Cell, InitialState)`"
   ]
  },
  {
   "cell_type": "code",
   "execution_count": 15,
   "metadata": {
    "collapsed": false,
    "deletable": true,
    "editable": true
   },
   "outputs": [
    {
     "name": "stdout",
     "output_type": "stream",
     "text": [
      "Tests Passed\n"
     ]
    }
   ],
   "source": [
    "def get_init_cell(batch_size, rnn_size):\n",
    "    \"\"\"\n",
    "    Create an RNN Cell and initialize it.\n",
    "    :param batch_size: Size of batches\n",
    "    :param rnn_size: Size of RNNs\n",
    "    :return: Tuple (cell, initialize state)\n",
    "    \"\"\"\n",
    "    # TODO: Implement Function\n",
    "    lstm = tf.contrib.rnn.BasicLSTMCell(rnn_size)\n",
    "    \n",
    "    # Add dropout to the cell\n",
    "    #drop = tf.contrib.rnn.DropoutWrapper(lstm, output_keep_prob=keep_prob)\n",
    "    \n",
    "    # Stack up multiple LSTM layers, for deep learning\n",
    "    cell = tf.contrib.rnn.MultiRNNCell([lstm] * 1)\n",
    "    \n",
    "    # Getting an initial state of all zeros\n",
    "    initial_state = cell.zero_state(batch_size, tf.float32)\n",
    "    initial_state = tf.identity(initial_state,name='initial_state')\n",
    "    \n",
    "    return cell, initial_state\n",
    "\n",
    "\n",
    "\"\"\"\n",
    "DON'T MODIFY ANYTHING IN THIS CELL THAT IS BELOW THIS LINE\n",
    "\"\"\"\n",
    "tests.test_get_init_cell(get_init_cell)"
   ]
  },
  {
   "cell_type": "markdown",
   "metadata": {
    "deletable": true,
    "editable": true
   },
   "source": [
    "### Word Embedding\n",
    "Apply embedding to `input_data` using TensorFlow.  Return the embedded sequence."
   ]
  },
  {
   "cell_type": "code",
   "execution_count": 16,
   "metadata": {
    "collapsed": false,
    "deletable": true,
    "editable": true
   },
   "outputs": [
    {
     "name": "stdout",
     "output_type": "stream",
     "text": [
      "Tests Passed\n"
     ]
    }
   ],
   "source": [
    "def get_embed(input_data, vocab_size, embed_dim):\n",
    "    \"\"\"\n",
    "    Create embedding for <input_data>.\n",
    "    :param input_data: TF placeholder for text input.\n",
    "    :param vocab_size: Number of words in vocabulary.\n",
    "    :param embed_dim: Number of embedding dimensions\n",
    "    :return: Embedded input.\n",
    "    \"\"\"\n",
    "    # TODO: Implement Function\n",
    "    embedding = tf.Variable(tf.random_uniform((vocab_size, embed_dim), -1, 1))\n",
    "    embed = tf.nn.embedding_lookup(embedding, input_data)\n",
    "    \n",
    "    return embed\n",
    "\n",
    "\n",
    "\"\"\"\n",
    "DON'T MODIFY ANYTHING IN THIS CELL THAT IS BELOW THIS LINE\n",
    "\"\"\"\n",
    "tests.test_get_embed(get_embed)"
   ]
  },
  {
   "cell_type": "markdown",
   "metadata": {
    "deletable": true,
    "editable": true
   },
   "source": [
    "### Build RNN\n",
    "You created a RNN Cell in the `get_init_cell()` function.  Time to use the cell to create a RNN.\n",
    "- Build the RNN using the [`tf.nn.dynamic_rnn()`](https://www.tensorflow.org/api_docs/python/tf/nn/dynamic_rnn)\n",
    " - Apply the name \"final_state\" to the final state using [`tf.identity()`](https://www.tensorflow.org/api_docs/python/tf/identity)\n",
    "\n",
    "Return the outputs and final_state state in the following tuple `(Outputs, FinalState)` "
   ]
  },
  {
   "cell_type": "code",
   "execution_count": 17,
   "metadata": {
    "collapsed": false,
    "deletable": true,
    "editable": true
   },
   "outputs": [
    {
     "name": "stdout",
     "output_type": "stream",
     "text": [
      "Tests Passed\n"
     ]
    }
   ],
   "source": [
    "def build_rnn(cell, inputs):\n",
    "    \"\"\"\n",
    "    Create a RNN using a RNN Cell\n",
    "    :param cell: RNN Cell\n",
    "    :param inputs: Input text data\n",
    "    :return: Tuple (Outputs, Final State)\n",
    "    \"\"\"\n",
    "    # TODO: Implement Function\n",
    "    \n",
    "    outputs, final_state = tf.nn.dynamic_rnn(cell, inputs, dtype=tf.float32)\n",
    "    final_state = tf.identity(final_state,name='final_state')\n",
    "    \n",
    "    return outputs, final_state\n",
    "\n",
    "\n",
    "\"\"\"\n",
    "DON'T MODIFY ANYTHING IN THIS CELL THAT IS BELOW THIS LINE\n",
    "\"\"\"\n",
    "tests.test_build_rnn(build_rnn)"
   ]
  },
  {
   "cell_type": "markdown",
   "metadata": {
    "deletable": true,
    "editable": true
   },
   "source": [
    "### Build the Neural Network\n",
    "Apply the functions you implemented above to:\n",
    "- Apply embedding to `input_data` using your `get_embed(input_data, vocab_size, embed_dim)` function.\n",
    "- Build RNN using `cell` and your `build_rnn(cell, inputs)` function.\n",
    "- Apply a fully connected layer with a linear activation and `vocab_size` as the number of outputs.\n",
    "\n",
    "Return the logits and final state in the following tuple (Logits, FinalState) "
   ]
  },
  {
   "cell_type": "code",
   "execution_count": 18,
   "metadata": {
    "collapsed": false,
    "deletable": true,
    "editable": true
   },
   "outputs": [
    {
     "name": "stdout",
     "output_type": "stream",
     "text": [
      "Tests Passed\n"
     ]
    }
   ],
   "source": [
    "def build_nn(cell, rnn_size, input_data, vocab_size, embed_dim):\n",
    "    \"\"\"\n",
    "    Build part of the neural network\n",
    "    :param cell: RNN cell\n",
    "    :param rnn_size: Size of rnns\n",
    "    :param input_data: Input data\n",
    "    :param vocab_size: Vocabulary size\n",
    "    :param embed_dim: Number of embedding dimensions\n",
    "    :return: Tuple (Logits, FinalState)\n",
    "    \"\"\"\n",
    "    # TODO: Implement Function\n",
    "    embed = get_embed(input_data, vocab_size, embed_dim)\n",
    "    outputs, final_state = build_rnn(cell, embed)\n",
    "    \n",
    "    logits = tf.contrib.layers.fully_connected(outputs, vocab_size, activation_fn=None)\n",
    "    #print(input_data.shape,embed.shape,outputs.shape,logits.shape)\n",
    "    \n",
    "    return logits, final_state\n",
    "\n",
    "\n",
    "\"\"\"\n",
    "DON'T MODIFY ANYTHING IN THIS CELL THAT IS BELOW THIS LINE\n",
    "\"\"\"\n",
    "tests.test_build_nn(build_nn)"
   ]
  },
  {
   "cell_type": "markdown",
   "metadata": {
    "deletable": true,
    "editable": true
   },
   "source": [
    "### Batches\n",
    "Implement `get_batches` to create batches of input and targets using `int_text`.  The batches should be a Numpy array with the shape `(number of batches, 2, batch size, sequence length)`. Each batch contains two elements:\n",
    "- The first element is a single batch of **input** with the shape `[batch size, sequence length]`\n",
    "- The second element is a single batch of **targets** with the shape `[batch size, sequence length]`\n",
    "\n",
    "If you can't fill the last batch with enough data, drop the last batch.\n",
    "\n",
    "For exmple, `get_batches([1, 2, 3, 4, 5, 6, 7, 8, 9, 10, 11, 12, 13, 14, 15, 16, 17, 18, 19, 20], 3, 2)` would return a Numpy array of the following:\n",
    "```\n",
    "[\n",
    "  # First Batch\n",
    "  [\n",
    "    # Batch of Input\n",
    "    [[ 1  2], [ 7  8], [13 14]]\n",
    "    # Batch of targets\n",
    "    [[ 2  3], [ 8  9], [14 15]]\n",
    "  ]\n",
    "\n",
    "  # Second Batch\n",
    "  [\n",
    "    # Batch of Input\n",
    "    [[ 3  4], [ 9 10], [15 16]]\n",
    "    # Batch of targets\n",
    "    [[ 4  5], [10 11], [16 17]]\n",
    "  ]\n",
    "\n",
    "  # Third Batch\n",
    "  [\n",
    "    # Batch of Input\n",
    "    [[ 5  6], [11 12], [17 18]]\n",
    "    # Batch of targets\n",
    "    [[ 6  7], [12 13], [18  1]]\n",
    "  ]\n",
    "]\n",
    "```\n",
    "\n",
    "Notice that the last target value in the last batch is the first input value of the first batch. In this case, `1`. This is a common technique used when creating sequence batches, although it is rather unintuitive."
   ]
  },
  {
   "cell_type": "code",
   "execution_count": 19,
   "metadata": {
    "collapsed": false,
    "deletable": true,
    "editable": true
   },
   "outputs": [
    {
     "name": "stdout",
     "output_type": "stream",
     "text": [
      "5000\n",
      "4480 7 128 5\n",
      "Tests Passed\n"
     ]
    }
   ],
   "source": [
    "def get_batches(int_text, batch_size, seq_length):\n",
    "    \"\"\"3, 2, 3,2\n",
    "    Return batches of input and target\n",
    "    :param int_text: Text with the words replaced by their ids\n",
    "    :param batch_size: The size of batch\n",
    "    :param seq_length: The length of sequence\n",
    "    :return: Batches as a Numpy array\n",
    "    \"\"\"\n",
    "    # TODO: Implement Function\n",
    "    print(len(int_text))\n",
    "    n_batches = len(int_text)//(batch_size*seq_length)\n",
    "    int_text = int_text[:batch_size*seq_length*n_batches]\n",
    "    #print(type(int_text),int_text)\n",
    "    int_text_l = int_text.copy()\n",
    "    int_text_l[:-1], int_text_l[-1] = int_text[1:], int_text[0]\n",
    "\n",
    "    batches = np.zeros((n_batches,2,batch_size,seq_length),int)\n",
    "    print(len(int_text),n_batches,batch_size,seq_length)\n",
    "    \n",
    "    for i_batch in range(n_batches):\n",
    "        for idx in range(batch_size):\n",
    "            idx_start = i_batch*seq_length + idx*n_batches*seq_length\n",
    "            #print(i_batch,idx,idx_start)\n",
    "            #print(int_text[idx_start:idx_start + seq_length])\n",
    "            batches[i_batch,0,idx,:] = int_text[idx_start:idx_start + seq_length]\n",
    "            batches[i_batch,1,idx,:] = int_text_l[idx_start:idx_start + seq_length]\n",
    "    \n",
    "    #print(batches)#[:])\n",
    "    return batches\n",
    "\n",
    "\n",
    "\"\"\"\n",
    "DON'T MODIFY ANYTHING IN THIS CELL THAT IS BELOW THIS LINE\n",
    "\"\"\"\n",
    "tests.test_get_batches(get_batches)"
   ]
  },
  {
   "cell_type": "markdown",
   "metadata": {
    "deletable": true,
    "editable": true
   },
   "source": [
    "## Neural Network Training\n",
    "### Hyperparameters\n",
    "Tune the following parameters:\n",
    "\n",
    "- Set `num_epochs` to the number of epochs.\n",
    "- Set `batch_size` to the batch size.\n",
    "- Set `rnn_size` to the size of the RNNs.\n",
    "- Set `embed_dim` to the size of the embedding.\n",
    "- Set `seq_length` to the length of sequence.\n",
    "- Set `learning_rate` to the learning rate.\n",
    "- Set `show_every_n_batches` to the number of batches the neural network should print progress."
   ]
  },
  {
   "cell_type": "code",
   "execution_count": 26,
   "metadata": {
    "collapsed": true,
    "deletable": true,
    "editable": true
   },
   "outputs": [],
   "source": [
    "# Number of Epochs\n",
    "num_epochs = 50\n",
    "# Batch Size\n",
    "batch_size = 64\n",
    "# RNN Size\n",
    "rnn_size = 256\n",
    "# Embedding Dimension Size\n",
    "embed_dim = 200\n",
    "# Sequence Length\n",
    "seq_length = 10\n",
    "# Learning Rate\n",
    "learning_rate = 0.01\n",
    "# Show stats for every n number of batches\n",
    "show_every_n_batches = 10\n",
    "\n",
    "\"\"\"\n",
    "DON'T MODIFY ANYTHING IN THIS CELL THAT IS BELOW THIS LINE\n",
    "\"\"\"\n",
    "save_dir = './save'"
   ]
  },
  {
   "cell_type": "markdown",
   "metadata": {
    "deletable": true,
    "editable": true
   },
   "source": [
    "### Build the Graph\n",
    "Build the graph using the neural network you implemented."
   ]
  },
  {
   "cell_type": "code",
   "execution_count": 27,
   "metadata": {
    "collapsed": false,
    "deletable": true,
    "editable": true
   },
   "outputs": [],
   "source": [
    "\"\"\"\n",
    "DON'T MODIFY ANYTHING IN THIS CELL\n",
    "\"\"\"\n",
    "from tensorflow.contrib import seq2seq\n",
    "\n",
    "train_graph = tf.Graph()\n",
    "with train_graph.as_default():\n",
    "    vocab_size = len(int_to_vocab)\n",
    "    input_text, targets, lr = get_inputs()\n",
    "    input_data_shape = tf.shape(input_text)\n",
    "    cell, initial_state = get_init_cell(input_data_shape[0], rnn_size)\n",
    "    logits, final_state = build_nn(cell, rnn_size, input_text, vocab_size, embed_dim)\n",
    "\n",
    "    # Probabilities for generating words\n",
    "    probs = tf.nn.softmax(logits, name='probs')\n",
    "\n",
    "    # Loss function\n",
    "    cost = seq2seq.sequence_loss(\n",
    "        logits,\n",
    "        targets,\n",
    "        tf.ones([input_data_shape[0], input_data_shape[1]]))\n",
    "\n",
    "    # Optimizer\n",
    "    optimizer = tf.train.AdamOptimizer(lr)\n",
    "\n",
    "    # Gradient Clipping\n",
    "    gradients = optimizer.compute_gradients(cost)\n",
    "    capped_gradients = [(tf.clip_by_value(grad, -1., 1.), var) for grad, var in gradients if grad is not None]\n",
    "    train_op = optimizer.apply_gradients(capped_gradients)"
   ]
  },
  {
   "cell_type": "markdown",
   "metadata": {
    "deletable": true,
    "editable": true
   },
   "source": [
    "## Train\n",
    "Train the neural network on the preprocessed data.  If you have a hard time getting a good loss, check the [forums](https://discussions.udacity.com/) to see if anyone is having the same problem."
   ]
  },
  {
   "cell_type": "code",
   "execution_count": 28,
   "metadata": {
    "collapsed": false,
    "deletable": true,
    "editable": true
   },
   "outputs": [
    {
     "name": "stdout",
     "output_type": "stream",
     "text": [
      "69100\n",
      "68480 107 64 10\n",
      "Epoch   0 Batch    0/107   train_loss = 8.822\n",
      "Epoch   0 Batch   10/107   train_loss = 6.228\n",
      "Epoch   0 Batch   20/107   train_loss = 5.823\n",
      "Epoch   0 Batch   30/107   train_loss = 5.513\n",
      "Epoch   0 Batch   40/107   train_loss = 5.395\n",
      "Epoch   0 Batch   50/107   train_loss = 5.032\n",
      "Epoch   0 Batch   60/107   train_loss = 5.275\n",
      "Epoch   0 Batch   70/107   train_loss = 5.186\n",
      "Epoch   0 Batch   80/107   train_loss = 5.041\n",
      "Epoch   0 Batch   90/107   train_loss = 5.207\n",
      "Epoch   0 Batch  100/107   train_loss = 4.873\n",
      "Epoch   1 Batch    3/107   train_loss = 4.617\n",
      "Epoch   1 Batch   13/107   train_loss = 4.773\n",
      "Epoch   1 Batch   23/107   train_loss = 4.575\n",
      "Epoch   1 Batch   33/107   train_loss = 4.573\n",
      "Epoch   1 Batch   43/107   train_loss = 4.171\n",
      "Epoch   1 Batch   53/107   train_loss = 4.339\n",
      "Epoch   1 Batch   63/107   train_loss = 4.578\n",
      "Epoch   1 Batch   73/107   train_loss = 4.586\n",
      "Epoch   1 Batch   83/107   train_loss = 4.447\n",
      "Epoch   1 Batch   93/107   train_loss = 4.417\n",
      "Epoch   1 Batch  103/107   train_loss = 4.242\n",
      "Epoch   2 Batch    6/107   train_loss = 4.025\n",
      "Epoch   2 Batch   16/107   train_loss = 3.963\n",
      "Epoch   2 Batch   26/107   train_loss = 4.072\n",
      "Epoch   2 Batch   36/107   train_loss = 4.261\n",
      "Epoch   2 Batch   46/107   train_loss = 4.222\n",
      "Epoch   2 Batch   56/107   train_loss = 3.929\n",
      "Epoch   2 Batch   66/107   train_loss = 4.066\n",
      "Epoch   2 Batch   76/107   train_loss = 3.920\n",
      "Epoch   2 Batch   86/107   train_loss = 3.829\n",
      "Epoch   2 Batch   96/107   train_loss = 3.659\n",
      "Epoch   2 Batch  106/107   train_loss = 3.551\n",
      "Epoch   3 Batch    9/107   train_loss = 3.656\n",
      "Epoch   3 Batch   19/107   train_loss = 3.592\n",
      "Epoch   3 Batch   29/107   train_loss = 3.849\n",
      "Epoch   3 Batch   39/107   train_loss = 3.559\n",
      "Epoch   3 Batch   49/107   train_loss = 3.606\n",
      "Epoch   3 Batch   59/107   train_loss = 3.602\n",
      "Epoch   3 Batch   69/107   train_loss = 3.582\n",
      "Epoch   3 Batch   79/107   train_loss = 3.449\n",
      "Epoch   3 Batch   89/107   train_loss = 3.449\n",
      "Epoch   3 Batch   99/107   train_loss = 3.237\n",
      "Epoch   4 Batch    2/107   train_loss = 3.227\n",
      "Epoch   4 Batch   12/107   train_loss = 3.396\n",
      "Epoch   4 Batch   22/107   train_loss = 3.121\n",
      "Epoch   4 Batch   32/107   train_loss = 3.266\n",
      "Epoch   4 Batch   42/107   train_loss = 3.291\n",
      "Epoch   4 Batch   52/107   train_loss = 3.268\n",
      "Epoch   4 Batch   62/107   train_loss = 3.233\n",
      "Epoch   4 Batch   72/107   train_loss = 3.055\n",
      "Epoch   4 Batch   82/107   train_loss = 2.882\n",
      "Epoch   4 Batch   92/107   train_loss = 2.984\n",
      "Epoch   4 Batch  102/107   train_loss = 3.104\n",
      "Epoch   5 Batch    5/107   train_loss = 2.874\n",
      "Epoch   5 Batch   15/107   train_loss = 2.960\n",
      "Epoch   5 Batch   25/107   train_loss = 2.902\n",
      "Epoch   5 Batch   35/107   train_loss = 3.068\n",
      "Epoch   5 Batch   45/107   train_loss = 2.955\n",
      "Epoch   5 Batch   55/107   train_loss = 2.963\n",
      "Epoch   5 Batch   65/107   train_loss = 2.758\n",
      "Epoch   5 Batch   75/107   train_loss = 2.738\n",
      "Epoch   5 Batch   85/107   train_loss = 2.795\n",
      "Epoch   5 Batch   95/107   train_loss = 2.794\n",
      "Epoch   5 Batch  105/107   train_loss = 2.669\n",
      "Epoch   6 Batch    8/107   train_loss = 2.843\n",
      "Epoch   6 Batch   18/107   train_loss = 2.555\n",
      "Epoch   6 Batch   28/107   train_loss = 2.719\n",
      "Epoch   6 Batch   38/107   train_loss = 2.696\n",
      "Epoch   6 Batch   48/107   train_loss = 2.840\n",
      "Epoch   6 Batch   58/107   train_loss = 2.708\n",
      "Epoch   6 Batch   68/107   train_loss = 2.695\n",
      "Epoch   6 Batch   78/107   train_loss = 2.606\n",
      "Epoch   6 Batch   88/107   train_loss = 2.571\n",
      "Epoch   6 Batch   98/107   train_loss = 2.436\n",
      "Epoch   7 Batch    1/107   train_loss = 2.438\n",
      "Epoch   7 Batch   11/107   train_loss = 2.561\n",
      "Epoch   7 Batch   21/107   train_loss = 2.624\n",
      "Epoch   7 Batch   31/107   train_loss = 2.526\n",
      "Epoch   7 Batch   41/107   train_loss = 2.577\n",
      "Epoch   7 Batch   51/107   train_loss = 2.517\n",
      "Epoch   7 Batch   61/107   train_loss = 2.487\n",
      "Epoch   7 Batch   71/107   train_loss = 2.426\n",
      "Epoch   7 Batch   81/107   train_loss = 2.431\n",
      "Epoch   7 Batch   91/107   train_loss = 2.241\n",
      "Epoch   7 Batch  101/107   train_loss = 2.223\n",
      "Epoch   8 Batch    4/107   train_loss = 2.341\n",
      "Epoch   8 Batch   14/107   train_loss = 2.351\n",
      "Epoch   8 Batch   24/107   train_loss = 2.362\n",
      "Epoch   8 Batch   34/107   train_loss = 2.267\n",
      "Epoch   8 Batch   44/107   train_loss = 2.407\n",
      "Epoch   8 Batch   54/107   train_loss = 2.300\n",
      "Epoch   8 Batch   64/107   train_loss = 2.405\n",
      "Epoch   8 Batch   74/107   train_loss = 2.229\n",
      "Epoch   8 Batch   84/107   train_loss = 2.159\n",
      "Epoch   8 Batch   94/107   train_loss = 2.161\n",
      "Epoch   8 Batch  104/107   train_loss = 2.043\n",
      "Epoch   9 Batch    7/107   train_loss = 2.149\n",
      "Epoch   9 Batch   17/107   train_loss = 2.074\n",
      "Epoch   9 Batch   27/107   train_loss = 2.082\n",
      "Epoch   9 Batch   37/107   train_loss = 2.031\n",
      "Epoch   9 Batch   47/107   train_loss = 2.050\n",
      "Epoch   9 Batch   57/107   train_loss = 2.026\n",
      "Epoch   9 Batch   67/107   train_loss = 2.018\n",
      "Epoch   9 Batch   77/107   train_loss = 2.007\n",
      "Epoch   9 Batch   87/107   train_loss = 2.049\n",
      "Epoch   9 Batch   97/107   train_loss = 2.039\n",
      "Epoch  10 Batch    0/107   train_loss = 2.003\n",
      "Epoch  10 Batch   10/107   train_loss = 1.953\n",
      "Epoch  10 Batch   20/107   train_loss = 1.928\n",
      "Epoch  10 Batch   30/107   train_loss = 1.924\n",
      "Epoch  10 Batch   40/107   train_loss = 2.017\n",
      "Epoch  10 Batch   50/107   train_loss = 1.928\n",
      "Epoch  10 Batch   60/107   train_loss = 1.796\n",
      "Epoch  10 Batch   70/107   train_loss = 1.910\n",
      "Epoch  10 Batch   80/107   train_loss = 1.941\n",
      "Epoch  10 Batch   90/107   train_loss = 1.800\n",
      "Epoch  10 Batch  100/107   train_loss = 1.872\n",
      "Epoch  11 Batch    3/107   train_loss = 1.798\n",
      "Epoch  11 Batch   13/107   train_loss = 1.855\n",
      "Epoch  11 Batch   23/107   train_loss = 1.849\n",
      "Epoch  11 Batch   33/107   train_loss = 1.742\n",
      "Epoch  11 Batch   43/107   train_loss = 1.854\n",
      "Epoch  11 Batch   53/107   train_loss = 1.662\n",
      "Epoch  11 Batch   63/107   train_loss = 1.776\n",
      "Epoch  11 Batch   73/107   train_loss = 1.647\n",
      "Epoch  11 Batch   83/107   train_loss = 1.672\n",
      "Epoch  11 Batch   93/107   train_loss = 1.687\n",
      "Epoch  11 Batch  103/107   train_loss = 1.746\n",
      "Epoch  12 Batch    6/107   train_loss = 1.717\n",
      "Epoch  12 Batch   16/107   train_loss = 1.695\n",
      "Epoch  12 Batch   26/107   train_loss = 1.661\n",
      "Epoch  12 Batch   36/107   train_loss = 1.569\n",
      "Epoch  12 Batch   46/107   train_loss = 1.534\n",
      "Epoch  12 Batch   56/107   train_loss = 1.551\n",
      "Epoch  12 Batch   66/107   train_loss = 1.460\n",
      "Epoch  12 Batch   76/107   train_loss = 1.555\n",
      "Epoch  12 Batch   86/107   train_loss = 1.599\n",
      "Epoch  12 Batch   96/107   train_loss = 1.644\n",
      "Epoch  12 Batch  106/107   train_loss = 1.622\n",
      "Epoch  13 Batch    9/107   train_loss = 1.505\n",
      "Epoch  13 Batch   19/107   train_loss = 1.439\n",
      "Epoch  13 Batch   29/107   train_loss = 1.576\n",
      "Epoch  13 Batch   39/107   train_loss = 1.489\n",
      "Epoch  13 Batch   49/107   train_loss = 1.452\n",
      "Epoch  13 Batch   59/107   train_loss = 1.508\n",
      "Epoch  13 Batch   69/107   train_loss = 1.459\n",
      "Epoch  13 Batch   79/107   train_loss = 1.533\n",
      "Epoch  13 Batch   89/107   train_loss = 1.487\n",
      "Epoch  13 Batch   99/107   train_loss = 1.354\n",
      "Epoch  14 Batch    2/107   train_loss = 1.476\n",
      "Epoch  14 Batch   12/107   train_loss = 1.449\n",
      "Epoch  14 Batch   22/107   train_loss = 1.415\n",
      "Epoch  14 Batch   32/107   train_loss = 1.457\n",
      "Epoch  14 Batch   42/107   train_loss = 1.391\n",
      "Epoch  14 Batch   52/107   train_loss = 1.310\n",
      "Epoch  14 Batch   62/107   train_loss = 1.417\n",
      "Epoch  14 Batch   72/107   train_loss = 1.334\n",
      "Epoch  14 Batch   82/107   train_loss = 1.238\n",
      "Epoch  14 Batch   92/107   train_loss = 1.237\n",
      "Epoch  14 Batch  102/107   train_loss = 1.426\n",
      "Epoch  15 Batch    5/107   train_loss = 1.451\n",
      "Epoch  15 Batch   15/107   train_loss = 1.416\n",
      "Epoch  15 Batch   25/107   train_loss = 1.308\n",
      "Epoch  15 Batch   35/107   train_loss = 1.419\n",
      "Epoch  15 Batch   45/107   train_loss = 1.381\n",
      "Epoch  15 Batch   55/107   train_loss = 1.335\n",
      "Epoch  15 Batch   65/107   train_loss = 1.267\n",
      "Epoch  15 Batch   75/107   train_loss = 1.342\n",
      "Epoch  15 Batch   85/107   train_loss = 1.341\n",
      "Epoch  15 Batch   95/107   train_loss = 1.378\n",
      "Epoch  15 Batch  105/107   train_loss = 1.305\n",
      "Epoch  16 Batch    8/107   train_loss = 1.362\n",
      "Epoch  16 Batch   18/107   train_loss = 1.308\n",
      "Epoch  16 Batch   28/107   train_loss = 1.293\n",
      "Epoch  16 Batch   38/107   train_loss = 1.301\n",
      "Epoch  16 Batch   48/107   train_loss = 1.267\n",
      "Epoch  16 Batch   58/107   train_loss = 1.268\n",
      "Epoch  16 Batch   68/107   train_loss = 1.379\n",
      "Epoch  16 Batch   78/107   train_loss = 1.292\n",
      "Epoch  16 Batch   88/107   train_loss = 1.232\n",
      "Epoch  16 Batch   98/107   train_loss = 1.081\n",
      "Epoch  17 Batch    1/107   train_loss = 1.176\n",
      "Epoch  17 Batch   11/107   train_loss = 1.321\n",
      "Epoch  17 Batch   21/107   train_loss = 1.313\n",
      "Epoch  17 Batch   31/107   train_loss = 1.219\n",
      "Epoch  17 Batch   41/107   train_loss = 1.340\n",
      "Epoch  17 Batch   51/107   train_loss = 1.223\n",
      "Epoch  17 Batch   61/107   train_loss = 1.125\n",
      "Epoch  17 Batch   71/107   train_loss = 1.209\n",
      "Epoch  17 Batch   81/107   train_loss = 1.227\n",
      "Epoch  17 Batch   91/107   train_loss = 1.169\n",
      "Epoch  17 Batch  101/107   train_loss = 1.229\n",
      "Epoch  18 Batch    4/107   train_loss = 1.259\n",
      "Epoch  18 Batch   14/107   train_loss = 1.209\n",
      "Epoch  18 Batch   24/107   train_loss = 1.316\n",
      "Epoch  18 Batch   34/107   train_loss = 1.131\n",
      "Epoch  18 Batch   44/107   train_loss = 1.275\n",
      "Epoch  18 Batch   54/107   train_loss = 1.068\n",
      "Epoch  18 Batch   64/107   train_loss = 1.193\n",
      "Epoch  18 Batch   74/107   train_loss = 1.181\n",
      "Epoch  18 Batch   84/107   train_loss = 1.050\n",
      "Epoch  18 Batch   94/107   train_loss = 1.110\n",
      "Epoch  18 Batch  104/107   train_loss = 1.103\n",
      "Epoch  19 Batch    7/107   train_loss = 1.302\n",
      "Epoch  19 Batch   17/107   train_loss = 1.169\n",
      "Epoch  19 Batch   27/107   train_loss = 1.146\n",
      "Epoch  19 Batch   37/107   train_loss = 1.123\n",
      "Epoch  19 Batch   47/107   train_loss = 1.136\n",
      "Epoch  19 Batch   57/107   train_loss = 1.145\n",
      "Epoch  19 Batch   67/107   train_loss = 1.160\n",
      "Epoch  19 Batch   77/107   train_loss = 1.226\n",
      "Epoch  19 Batch   87/107   train_loss = 1.176\n",
      "Epoch  19 Batch   97/107   train_loss = 1.158\n",
      "Epoch  20 Batch    0/107   train_loss = 1.050\n",
      "Epoch  20 Batch   10/107   train_loss = 1.123\n",
      "Epoch  20 Batch   20/107   train_loss = 1.124\n",
      "Epoch  20 Batch   30/107   train_loss = 1.129\n",
      "Epoch  20 Batch   40/107   train_loss = 1.212\n",
      "Epoch  20 Batch   50/107   train_loss = 1.137\n",
      "Epoch  20 Batch   60/107   train_loss = 1.061\n",
      "Epoch  20 Batch   70/107   train_loss = 1.093\n",
      "Epoch  20 Batch   80/107   train_loss = 1.126\n",
      "Epoch  20 Batch   90/107   train_loss = 1.104\n",
      "Epoch  20 Batch  100/107   train_loss = 1.097\n",
      "Epoch  21 Batch    3/107   train_loss = 1.043\n",
      "Epoch  21 Batch   13/107   train_loss = 1.217\n",
      "Epoch  21 Batch   23/107   train_loss = 1.160\n",
      "Epoch  21 Batch   33/107   train_loss = 1.023\n",
      "Epoch  21 Batch   43/107   train_loss = 1.264\n",
      "Epoch  21 Batch   53/107   train_loss = 1.061\n",
      "Epoch  21 Batch   63/107   train_loss = 1.043\n",
      "Epoch  21 Batch   73/107   train_loss = 1.008\n",
      "Epoch  21 Batch   83/107   train_loss = 1.015\n",
      "Epoch  21 Batch   93/107   train_loss = 1.040\n",
      "Epoch  21 Batch  103/107   train_loss = 1.054\n",
      "Epoch  22 Batch    6/107   train_loss = 1.132\n",
      "Epoch  22 Batch   16/107   train_loss = 1.120\n",
      "Epoch  22 Batch   26/107   train_loss = 1.078\n",
      "Epoch  22 Batch   36/107   train_loss = 1.084\n",
      "Epoch  22 Batch   46/107   train_loss = 0.997\n",
      "Epoch  22 Batch   56/107   train_loss = 0.960\n",
      "Epoch  22 Batch   66/107   train_loss = 0.952\n",
      "Epoch  22 Batch   76/107   train_loss = 1.061\n",
      "Epoch  22 Batch   86/107   train_loss = 1.099\n",
      "Epoch  22 Batch   96/107   train_loss = 1.154\n",
      "Epoch  22 Batch  106/107   train_loss = 1.122\n",
      "Epoch  23 Batch    9/107   train_loss = 1.063\n",
      "Epoch  23 Batch   19/107   train_loss = 1.059\n",
      "Epoch  23 Batch   29/107   train_loss = 1.105\n",
      "Epoch  23 Batch   39/107   train_loss = 1.101\n",
      "Epoch  23 Batch   49/107   train_loss = 0.998\n",
      "Epoch  23 Batch   59/107   train_loss = 1.080\n",
      "Epoch  23 Batch   69/107   train_loss = 1.041\n",
      "Epoch  23 Batch   79/107   train_loss = 0.990\n",
      "Epoch  23 Batch   89/107   train_loss = 1.039\n",
      "Epoch  23 Batch   99/107   train_loss = 0.929\n",
      "Epoch  24 Batch    2/107   train_loss = 1.074\n",
      "Epoch  24 Batch   12/107   train_loss = 1.067\n",
      "Epoch  24 Batch   22/107   train_loss = 1.037\n",
      "Epoch  24 Batch   32/107   train_loss = 1.042\n",
      "Epoch  24 Batch   42/107   train_loss = 1.025\n",
      "Epoch  24 Batch   52/107   train_loss = 0.927\n",
      "Epoch  24 Batch   62/107   train_loss = 1.021\n",
      "Epoch  24 Batch   72/107   train_loss = 0.991\n",
      "Epoch  24 Batch   82/107   train_loss = 1.016\n",
      "Epoch  24 Batch   92/107   train_loss = 0.964\n",
      "Epoch  24 Batch  102/107   train_loss = 1.034\n",
      "Epoch  25 Batch    5/107   train_loss = 1.083\n",
      "Epoch  25 Batch   15/107   train_loss = 1.022\n",
      "Epoch  25 Batch   25/107   train_loss = 0.986\n",
      "Epoch  25 Batch   35/107   train_loss = 1.040\n",
      "Epoch  25 Batch   45/107   train_loss = 0.994\n",
      "Epoch  25 Batch   55/107   train_loss = 1.007\n",
      "Epoch  25 Batch   65/107   train_loss = 0.932\n",
      "Epoch  25 Batch   75/107   train_loss = 1.029\n",
      "Epoch  25 Batch   85/107   train_loss = 0.979\n",
      "Epoch  25 Batch   95/107   train_loss = 0.957\n",
      "Epoch  25 Batch  105/107   train_loss = 0.954\n",
      "Epoch  26 Batch    8/107   train_loss = 1.048\n",
      "Epoch  26 Batch   18/107   train_loss = 0.975\n",
      "Epoch  26 Batch   28/107   train_loss = 0.877\n",
      "Epoch  26 Batch   38/107   train_loss = 0.937\n",
      "Epoch  26 Batch   48/107   train_loss = 0.952\n",
      "Epoch  26 Batch   58/107   train_loss = 0.990\n",
      "Epoch  26 Batch   68/107   train_loss = 1.049\n",
      "Epoch  26 Batch   78/107   train_loss = 0.977\n",
      "Epoch  26 Batch   88/107   train_loss = 0.931\n",
      "Epoch  26 Batch   98/107   train_loss = 0.837\n",
      "Epoch  27 Batch    1/107   train_loss = 0.932\n",
      "Epoch  27 Batch   11/107   train_loss = 1.077\n",
      "Epoch  27 Batch   21/107   train_loss = 1.096\n",
      "Epoch  27 Batch   31/107   train_loss = 0.980\n",
      "Epoch  27 Batch   41/107   train_loss = 1.126\n",
      "Epoch  27 Batch   51/107   train_loss = 0.993\n",
      "Epoch  27 Batch   61/107   train_loss = 0.911\n",
      "Epoch  27 Batch   71/107   train_loss = 0.982\n",
      "Epoch  27 Batch   81/107   train_loss = 0.980\n",
      "Epoch  27 Batch   91/107   train_loss = 0.856\n",
      "Epoch  27 Batch  101/107   train_loss = 1.029\n",
      "Epoch  28 Batch    4/107   train_loss = 0.962\n",
      "Epoch  28 Batch   14/107   train_loss = 0.962\n",
      "Epoch  28 Batch   24/107   train_loss = 1.024\n",
      "Epoch  28 Batch   34/107   train_loss = 0.953\n",
      "Epoch  28 Batch   44/107   train_loss = 1.012\n",
      "Epoch  28 Batch   54/107   train_loss = 0.928\n",
      "Epoch  28 Batch   64/107   train_loss = 0.989\n",
      "Epoch  28 Batch   74/107   train_loss = 0.999\n",
      "Epoch  28 Batch   84/107   train_loss = 0.870\n",
      "Epoch  28 Batch   94/107   train_loss = 0.946\n",
      "Epoch  28 Batch  104/107   train_loss = 0.898\n",
      "Epoch  29 Batch    7/107   train_loss = 1.019\n",
      "Epoch  29 Batch   17/107   train_loss = 0.928\n",
      "Epoch  29 Batch   27/107   train_loss = 1.011\n",
      "Epoch  29 Batch   37/107   train_loss = 0.916\n",
      "Epoch  29 Batch   47/107   train_loss = 0.968\n",
      "Epoch  29 Batch   57/107   train_loss = 0.991\n",
      "Epoch  29 Batch   67/107   train_loss = 0.917\n",
      "Epoch  29 Batch   77/107   train_loss = 1.038\n",
      "Epoch  29 Batch   87/107   train_loss = 0.954\n",
      "Epoch  29 Batch   97/107   train_loss = 0.997\n",
      "Epoch  30 Batch    0/107   train_loss = 0.896\n",
      "Epoch  30 Batch   10/107   train_loss = 0.951\n",
      "Epoch  30 Batch   20/107   train_loss = 0.943\n",
      "Epoch  30 Batch   30/107   train_loss = 0.939\n",
      "Epoch  30 Batch   40/107   train_loss = 1.012\n",
      "Epoch  30 Batch   50/107   train_loss = 0.873\n",
      "Epoch  30 Batch   60/107   train_loss = 0.920\n",
      "Epoch  30 Batch   70/107   train_loss = 0.913\n",
      "Epoch  30 Batch   80/107   train_loss = 0.925\n",
      "Epoch  30 Batch   90/107   train_loss = 0.952\n",
      "Epoch  30 Batch  100/107   train_loss = 0.988\n",
      "Epoch  31 Batch    3/107   train_loss = 0.898\n",
      "Epoch  31 Batch   13/107   train_loss = 0.994\n",
      "Epoch  31 Batch   23/107   train_loss = 0.933\n",
      "Epoch  31 Batch   33/107   train_loss = 0.894\n",
      "Epoch  31 Batch   43/107   train_loss = 0.999\n",
      "Epoch  31 Batch   53/107   train_loss = 0.957\n",
      "Epoch  31 Batch   63/107   train_loss = 0.898\n",
      "Epoch  31 Batch   73/107   train_loss = 0.867\n",
      "Epoch  31 Batch   83/107   train_loss = 0.899\n",
      "Epoch  31 Batch   93/107   train_loss = 0.968\n",
      "Epoch  31 Batch  103/107   train_loss = 1.021\n",
      "Epoch  32 Batch    6/107   train_loss = 0.986\n",
      "Epoch  32 Batch   16/107   train_loss = 0.956\n",
      "Epoch  32 Batch   26/107   train_loss = 0.931\n",
      "Epoch  32 Batch   36/107   train_loss = 0.878\n",
      "Epoch  32 Batch   46/107   train_loss = 0.895\n",
      "Epoch  32 Batch   56/107   train_loss = 0.831\n",
      "Epoch  32 Batch   66/107   train_loss = 0.816\n",
      "Epoch  32 Batch   76/107   train_loss = 0.938\n",
      "Epoch  32 Batch   86/107   train_loss = 0.915\n",
      "Epoch  32 Batch   96/107   train_loss = 0.978\n",
      "Epoch  32 Batch  106/107   train_loss = 0.914\n",
      "Epoch  33 Batch    9/107   train_loss = 0.928\n",
      "Epoch  33 Batch   19/107   train_loss = 0.971\n",
      "Epoch  33 Batch   29/107   train_loss = 1.007\n",
      "Epoch  33 Batch   39/107   train_loss = 0.925\n",
      "Epoch  33 Batch   49/107   train_loss = 0.883\n",
      "Epoch  33 Batch   59/107   train_loss = 0.931\n",
      "Epoch  33 Batch   69/107   train_loss = 1.042\n",
      "Epoch  33 Batch   79/107   train_loss = 0.892\n",
      "Epoch  33 Batch   89/107   train_loss = 0.909\n",
      "Epoch  33 Batch   99/107   train_loss = 0.888\n",
      "Epoch  34 Batch    2/107   train_loss = 0.968\n",
      "Epoch  34 Batch   12/107   train_loss = 0.996\n",
      "Epoch  34 Batch   22/107   train_loss = 0.908\n",
      "Epoch  34 Batch   32/107   train_loss = 0.934\n",
      "Epoch  34 Batch   42/107   train_loss = 0.973\n",
      "Epoch  34 Batch   52/107   train_loss = 0.818\n",
      "Epoch  34 Batch   62/107   train_loss = 0.833\n",
      "Epoch  34 Batch   72/107   train_loss = 0.880\n",
      "Epoch  34 Batch   82/107   train_loss = 0.899\n",
      "Epoch  34 Batch   92/107   train_loss = 0.878\n",
      "Epoch  34 Batch  102/107   train_loss = 0.938\n",
      "Epoch  35 Batch    5/107   train_loss = 0.952\n",
      "Epoch  35 Batch   15/107   train_loss = 0.938\n",
      "Epoch  35 Batch   25/107   train_loss = 0.796\n",
      "Epoch  35 Batch   35/107   train_loss = 0.914\n",
      "Epoch  35 Batch   45/107   train_loss = 0.878\n",
      "Epoch  35 Batch   55/107   train_loss = 0.896\n",
      "Epoch  35 Batch   65/107   train_loss = 0.760\n",
      "Epoch  35 Batch   75/107   train_loss = 0.875\n",
      "Epoch  35 Batch   85/107   train_loss = 0.928\n",
      "Epoch  35 Batch   95/107   train_loss = 0.872\n",
      "Epoch  35 Batch  105/107   train_loss = 0.895\n",
      "Epoch  36 Batch    8/107   train_loss = 0.866\n",
      "Epoch  36 Batch   18/107   train_loss = 0.895\n",
      "Epoch  36 Batch   28/107   train_loss = 0.834\n",
      "Epoch  36 Batch   38/107   train_loss = 0.845\n",
      "Epoch  36 Batch   48/107   train_loss = 0.865\n",
      "Epoch  36 Batch   58/107   train_loss = 0.822\n",
      "Epoch  36 Batch   68/107   train_loss = 0.947\n",
      "Epoch  36 Batch   78/107   train_loss = 0.883\n",
      "Epoch  36 Batch   88/107   train_loss = 0.849\n",
      "Epoch  36 Batch   98/107   train_loss = 0.774\n",
      "Epoch  37 Batch    1/107   train_loss = 0.777\n",
      "Epoch  37 Batch   11/107   train_loss = 0.894\n",
      "Epoch  37 Batch   21/107   train_loss = 1.000\n",
      "Epoch  37 Batch   31/107   train_loss = 0.827\n",
      "Epoch  37 Batch   41/107   train_loss = 0.967\n",
      "Epoch  37 Batch   51/107   train_loss = 0.900\n",
      "Epoch  37 Batch   61/107   train_loss = 0.823\n",
      "Epoch  37 Batch   71/107   train_loss = 0.825\n",
      "Epoch  37 Batch   81/107   train_loss = 0.936\n",
      "Epoch  37 Batch   91/107   train_loss = 0.774\n",
      "Epoch  37 Batch  101/107   train_loss = 0.895\n",
      "Epoch  38 Batch    4/107   train_loss = 0.896\n",
      "Epoch  38 Batch   14/107   train_loss = 0.865\n",
      "Epoch  38 Batch   24/107   train_loss = 0.949\n",
      "Epoch  38 Batch   34/107   train_loss = 0.834\n",
      "Epoch  38 Batch   44/107   train_loss = 0.914\n",
      "Epoch  38 Batch   54/107   train_loss = 0.838\n",
      "Epoch  38 Batch   64/107   train_loss = 0.843\n",
      "Epoch  38 Batch   74/107   train_loss = 0.853\n",
      "Epoch  38 Batch   84/107   train_loss = 0.813\n",
      "Epoch  38 Batch   94/107   train_loss = 0.835\n",
      "Epoch  38 Batch  104/107   train_loss = 0.807\n",
      "Epoch  39 Batch    7/107   train_loss = 0.935\n",
      "Epoch  39 Batch   17/107   train_loss = 0.801\n",
      "Epoch  39 Batch   27/107   train_loss = 0.919\n",
      "Epoch  39 Batch   37/107   train_loss = 0.828\n",
      "Epoch  39 Batch   47/107   train_loss = 0.830\n",
      "Epoch  39 Batch   57/107   train_loss = 0.892\n",
      "Epoch  39 Batch   67/107   train_loss = 0.840\n",
      "Epoch  39 Batch   77/107   train_loss = 0.945\n",
      "Epoch  39 Batch   87/107   train_loss = 0.868\n",
      "Epoch  39 Batch   97/107   train_loss = 0.899\n",
      "Epoch  40 Batch    0/107   train_loss = 0.772\n",
      "Epoch  40 Batch   10/107   train_loss = 0.841\n",
      "Epoch  40 Batch   20/107   train_loss = 0.853\n",
      "Epoch  40 Batch   30/107   train_loss = 0.851\n",
      "Epoch  40 Batch   40/107   train_loss = 0.865\n",
      "Epoch  40 Batch   50/107   train_loss = 0.773\n",
      "Epoch  40 Batch   60/107   train_loss = 0.793\n",
      "Epoch  40 Batch   70/107   train_loss = 0.780\n",
      "Epoch  40 Batch   80/107   train_loss = 0.834\n",
      "Epoch  40 Batch   90/107   train_loss = 0.867\n",
      "Epoch  40 Batch  100/107   train_loss = 0.853\n",
      "Epoch  41 Batch    3/107   train_loss = 0.779\n",
      "Epoch  41 Batch   13/107   train_loss = 0.876\n",
      "Epoch  41 Batch   23/107   train_loss = 0.841\n",
      "Epoch  41 Batch   33/107   train_loss = 0.807\n",
      "Epoch  41 Batch   43/107   train_loss = 0.884\n",
      "Epoch  41 Batch   53/107   train_loss = 0.795\n",
      "Epoch  41 Batch   63/107   train_loss = 0.847\n",
      "Epoch  41 Batch   73/107   train_loss = 0.792\n",
      "Epoch  41 Batch   83/107   train_loss = 0.802\n",
      "Epoch  41 Batch   93/107   train_loss = 0.863\n",
      "Epoch  41 Batch  103/107   train_loss = 0.881\n",
      "Epoch  42 Batch    6/107   train_loss = 0.889\n",
      "Epoch  42 Batch   16/107   train_loss = 0.834\n",
      "Epoch  42 Batch   26/107   train_loss = 0.899\n",
      "Epoch  42 Batch   36/107   train_loss = 0.796\n",
      "Epoch  42 Batch   46/107   train_loss = 0.814\n",
      "Epoch  42 Batch   56/107   train_loss = 0.768\n",
      "Epoch  42 Batch   66/107   train_loss = 0.735\n",
      "Epoch  42 Batch   76/107   train_loss = 0.838\n",
      "Epoch  42 Batch   86/107   train_loss = 0.770\n",
      "Epoch  42 Batch   96/107   train_loss = 0.873\n",
      "Epoch  42 Batch  106/107   train_loss = 0.852\n",
      "Epoch  43 Batch    9/107   train_loss = 0.827\n",
      "Epoch  43 Batch   19/107   train_loss = 0.826\n",
      "Epoch  43 Batch   29/107   train_loss = 0.977\n",
      "Epoch  43 Batch   39/107   train_loss = 0.841\n",
      "Epoch  43 Batch   49/107   train_loss = 0.816\n",
      "Epoch  43 Batch   59/107   train_loss = 0.836\n",
      "Epoch  43 Batch   69/107   train_loss = 0.836\n",
      "Epoch  43 Batch   79/107   train_loss = 0.828\n",
      "Epoch  43 Batch   89/107   train_loss = 0.887\n",
      "Epoch  43 Batch   99/107   train_loss = 0.887\n",
      "Epoch  44 Batch    2/107   train_loss = 0.916\n",
      "Epoch  44 Batch   12/107   train_loss = 0.865\n",
      "Epoch  44 Batch   22/107   train_loss = 0.865\n",
      "Epoch  44 Batch   32/107   train_loss = 0.854\n",
      "Epoch  44 Batch   42/107   train_loss = 0.950\n",
      "Epoch  44 Batch   52/107   train_loss = 0.770\n",
      "Epoch  44 Batch   62/107   train_loss = 0.867\n",
      "Epoch  44 Batch   72/107   train_loss = 0.891\n",
      "Epoch  44 Batch   82/107   train_loss = 0.898\n",
      "Epoch  44 Batch   92/107   train_loss = 0.902\n",
      "Epoch  44 Batch  102/107   train_loss = 0.904\n",
      "Epoch  45 Batch    5/107   train_loss = 1.009\n",
      "Epoch  45 Batch   15/107   train_loss = 0.856\n",
      "Epoch  45 Batch   25/107   train_loss = 0.860\n",
      "Epoch  45 Batch   35/107   train_loss = 0.994\n",
      "Epoch  45 Batch   45/107   train_loss = 0.846\n",
      "Epoch  45 Batch   55/107   train_loss = 0.898\n",
      "Epoch  45 Batch   65/107   train_loss = 0.797\n",
      "Epoch  45 Batch   75/107   train_loss = 0.882\n",
      "Epoch  45 Batch   85/107   train_loss = 0.962\n",
      "Epoch  45 Batch   95/107   train_loss = 0.965\n",
      "Epoch  45 Batch  105/107   train_loss = 0.884\n",
      "Epoch  46 Batch    8/107   train_loss = 0.924\n",
      "Epoch  46 Batch   18/107   train_loss = 0.897\n",
      "Epoch  46 Batch   28/107   train_loss = 0.835\n",
      "Epoch  46 Batch   38/107   train_loss = 0.961\n",
      "Epoch  46 Batch   48/107   train_loss = 0.919\n",
      "Epoch  46 Batch   58/107   train_loss = 0.931\n",
      "Epoch  46 Batch   68/107   train_loss = 0.969\n",
      "Epoch  46 Batch   78/107   train_loss = 0.951\n",
      "Epoch  46 Batch   88/107   train_loss = 0.935\n",
      "Epoch  46 Batch   98/107   train_loss = 0.820\n",
      "Epoch  47 Batch    1/107   train_loss = 0.837\n",
      "Epoch  47 Batch   11/107   train_loss = 0.945\n",
      "Epoch  47 Batch   21/107   train_loss = 1.025\n",
      "Epoch  47 Batch   31/107   train_loss = 0.973\n",
      "Epoch  47 Batch   41/107   train_loss = 1.007\n",
      "Epoch  47 Batch   51/107   train_loss = 0.948\n",
      "Epoch  47 Batch   61/107   train_loss = 0.902\n",
      "Epoch  47 Batch   71/107   train_loss = 0.906\n",
      "Epoch  47 Batch   81/107   train_loss = 1.004\n",
      "Epoch  47 Batch   91/107   train_loss = 0.818\n",
      "Epoch  47 Batch  101/107   train_loss = 0.937\n",
      "Epoch  48 Batch    4/107   train_loss = 0.939\n",
      "Epoch  48 Batch   14/107   train_loss = 0.963\n",
      "Epoch  48 Batch   24/107   train_loss = 0.993\n",
      "Epoch  48 Batch   34/107   train_loss = 0.925\n",
      "Epoch  48 Batch   44/107   train_loss = 1.004\n",
      "Epoch  48 Batch   54/107   train_loss = 0.853\n",
      "Epoch  48 Batch   64/107   train_loss = 0.918\n",
      "Epoch  48 Batch   74/107   train_loss = 0.832\n",
      "Epoch  48 Batch   84/107   train_loss = 0.881\n",
      "Epoch  48 Batch   94/107   train_loss = 0.914\n",
      "Epoch  48 Batch  104/107   train_loss = 0.815\n",
      "Epoch  49 Batch    7/107   train_loss = 0.909\n",
      "Epoch  49 Batch   17/107   train_loss = 0.807\n",
      "Epoch  49 Batch   27/107   train_loss = 0.891\n",
      "Epoch  49 Batch   37/107   train_loss = 0.846\n",
      "Epoch  49 Batch   47/107   train_loss = 0.860\n",
      "Epoch  49 Batch   57/107   train_loss = 0.896\n",
      "Epoch  49 Batch   67/107   train_loss = 0.829\n",
      "Epoch  49 Batch   77/107   train_loss = 0.879\n",
      "Epoch  49 Batch   87/107   train_loss = 0.931\n",
      "Epoch  49 Batch   97/107   train_loss = 0.900\n",
      "Model Trained and Saved\n"
     ]
    }
   ],
   "source": [
    "\"\"\"\n",
    "DON'T MODIFY ANYTHING IN THIS CELL\n",
    "\"\"\"\n",
    "batches = get_batches(int_text, batch_size, seq_length)\n",
    "\n",
    "with tf.Session(graph=train_graph) as sess:\n",
    "    sess.run(tf.global_variables_initializer())\n",
    "\n",
    "    for epoch_i in range(num_epochs):\n",
    "        state = sess.run(initial_state, {input_text: batches[0][0]})\n",
    "\n",
    "        for batch_i, (x, y) in enumerate(batches):\n",
    "            feed = {\n",
    "                input_text: x,\n",
    "                targets: y,\n",
    "                initial_state: state,\n",
    "                lr: learning_rate}\n",
    "            train_loss, state, _ = sess.run([cost, final_state, train_op], feed)\n",
    "\n",
    "            # Show every <show_every_n_batches> batches\n",
    "            if (epoch_i * len(batches) + batch_i) % show_every_n_batches == 0:\n",
    "                print('Epoch {:>3} Batch {:>4}/{}   train_loss = {:.3f}'.format(\n",
    "                    epoch_i,\n",
    "                    batch_i,\n",
    "                    len(batches),\n",
    "                    train_loss))\n",
    "\n",
    "    # Save Model\n",
    "    saver = tf.train.Saver()\n",
    "    saver.save(sess, save_dir)\n",
    "    print('Model Trained and Saved')"
   ]
  },
  {
   "cell_type": "markdown",
   "metadata": {
    "deletable": true,
    "editable": true
   },
   "source": [
    "## Save Parameters\n",
    "Save `seq_length` and `save_dir` for generating a new TV script."
   ]
  },
  {
   "cell_type": "code",
   "execution_count": 29,
   "metadata": {
    "collapsed": false,
    "deletable": true,
    "editable": true
   },
   "outputs": [],
   "source": [
    "\"\"\"\n",
    "DON'T MODIFY ANYTHING IN THIS CELL\n",
    "\"\"\"\n",
    "# Save parameters for checkpoint\n",
    "helper.save_params((seq_length, save_dir))"
   ]
  },
  {
   "cell_type": "markdown",
   "metadata": {
    "deletable": true,
    "editable": true
   },
   "source": [
    "# Checkpoint"
   ]
  },
  {
   "cell_type": "code",
   "execution_count": 30,
   "metadata": {
    "collapsed": false,
    "deletable": true,
    "editable": true
   },
   "outputs": [],
   "source": [
    "\"\"\"\n",
    "DON'T MODIFY ANYTHING IN THIS CELL\n",
    "\"\"\"\n",
    "import tensorflow as tf\n",
    "import numpy as np\n",
    "import helper\n",
    "import problem_unittests as tests\n",
    "\n",
    "_, vocab_to_int, int_to_vocab, token_dict = helper.load_preprocess()\n",
    "seq_length, load_dir = helper.load_params()"
   ]
  },
  {
   "cell_type": "markdown",
   "metadata": {
    "deletable": true,
    "editable": true
   },
   "source": [
    "## Implement Generate Functions\n",
    "### Get Tensors\n",
    "Get tensors from `loaded_graph` using the function [`get_tensor_by_name()`](https://www.tensorflow.org/api_docs/python/tf/Graph#get_tensor_by_name).  Get the tensors using the following names:\n",
    "- \"input:0\"\n",
    "- \"initial_state:0\"\n",
    "- \"final_state:0\"\n",
    "- \"probs:0\"\n",
    "\n",
    "Return the tensors in the following tuple `(InputTensor, InitialStateTensor, FinalStateTensor, ProbsTensor)` "
   ]
  },
  {
   "cell_type": "code",
   "execution_count": 31,
   "metadata": {
    "collapsed": false,
    "deletable": true,
    "editable": true
   },
   "outputs": [
    {
     "name": "stdout",
     "output_type": "stream",
     "text": [
      "Tests Passed\n"
     ]
    }
   ],
   "source": [
    "def get_tensors(loaded_graph):\n",
    "    \"\"\"\n",
    "    Get input, initial state, final state, and probabilities tensor from <loaded_graph>\n",
    "    :param loaded_graph: TensorFlow graph loaded from file\n",
    "    :return: Tuple (InputTensor, InitialStateTensor, FinalStateTensor, ProbsTensor)\n",
    "    \"\"\"\n",
    "    # TODO: Implement Function\n",
    "    inputs = loaded_graph.get_tensor_by_name('input:0')\n",
    "    initial_state = loaded_graph.get_tensor_by_name('initial_state:0')\n",
    "    final_state = loaded_graph.get_tensor_by_name('final_state:0')\n",
    "    probs = loaded_graph.get_tensor_by_name('probs:0')\n",
    "    \n",
    "    return inputs, initial_state, final_state, probs\n",
    "\n",
    "\n",
    "\"\"\"\n",
    "DON'T MODIFY ANYTHING IN THIS CELL THAT IS BELOW THIS LINE\n",
    "\"\"\"\n",
    "tests.test_get_tensors(get_tensors)"
   ]
  },
  {
   "cell_type": "markdown",
   "metadata": {
    "deletable": true,
    "editable": true
   },
   "source": [
    "### Choose Word\n",
    "Implement the `pick_word()` function to select the next word using `probabilities`."
   ]
  },
  {
   "cell_type": "code",
   "execution_count": 34,
   "metadata": {
    "collapsed": false,
    "deletable": true,
    "editable": true
   },
   "outputs": [
    {
     "name": "stdout",
     "output_type": "stream",
     "text": [
      "Tests Passed\n"
     ]
    }
   ],
   "source": [
    "def pick_word(probabilities, int_to_vocab):\n",
    "    \"\"\"\n",
    "    Pick the next word in the generated text\n",
    "    :param probabilities: Probabilites of the next word\n",
    "    :param int_to_vocab: Dictionary of word ids as the keys and words as the values\n",
    "    :return: String of the predicted word\n",
    "    \"\"\"\n",
    "    # TODO: Implement Function\n",
    "\n",
    "    next_index = np.random.choice(range(len(int_to_vocab)), 1, p=probabilities)[0]\n",
    "    next_word = int_to_vocab[next_index]\n",
    "    #print(next_index,next_word)\n",
    "    \n",
    "    return next_word\n",
    "\n",
    "\n",
    "\"\"\"\n",
    "DON'T MODIFY ANYTHING IN THIS CELL THAT IS BELOW THIS LINE\n",
    "\"\"\"\n",
    "tests.test_pick_word(pick_word)"
   ]
  },
  {
   "cell_type": "markdown",
   "metadata": {
    "deletable": true,
    "editable": true
   },
   "source": [
    "## Generate TV Script\n",
    "This will generate the TV script for you.  Set `gen_length` to the length of TV script you want to generate."
   ]
  },
  {
   "cell_type": "code",
   "execution_count": 37,
   "metadata": {
    "collapsed": false,
    "deletable": true,
    "editable": true
   },
   "outputs": [
    {
     "name": "stdout",
     "output_type": "stream",
     "text": [
      "moe_szyslak: power off, einstein.\n",
      "lenny_leonard:(thoughtful) moe? uh, things are tough. but you've never given anyone you'll sitting there in last twenty years...(then) chief wiggum! i'm a fat one! i wish for this. you've ever been in here for me to get off here.(turns) this place is a loser. / smells like like that guy for you guys could dynamite feet go up.\n",
      "lisa_simpson: i took away, moe?\n",
      "moe_szyslak: and now, where? it's as burns.\n",
      "bart_simpson: aren't those full of germs?\n",
      "homer_simpson: alright, alright, look at her if my special guest.\n",
      "moe_szyslak: hey, if wishes were dead!\n",
      "waylon_smithers:(sketching sounds) hello?\n",
      "carl_carlson: absolutely. but with a dog for.\n",
      "homer_simpson:(with it)\n",
      "counting the thanks, moe.\n",
      "kako: who need a little. my daughter is the cutest.\n",
      "kent_brockman: with wealthy hollywood happened, moe.\n",
      "homer_simpson: motel, i four?\n",
      "c. _montgomery_burns: i'm\n"
     ]
    }
   ],
   "source": [
    "gen_length = 200\n",
    "# homer_simpson, moe_szyslak, or Barney_Gumble\n",
    "prime_word = 'moe_szyslak'\n",
    "\n",
    "\"\"\"\n",
    "DON'T MODIFY ANYTHING IN THIS CELL THAT IS BELOW THIS LINE\n",
    "\"\"\"\n",
    "loaded_graph = tf.Graph()\n",
    "with tf.Session(graph=loaded_graph) as sess:\n",
    "    # Load saved model\n",
    "    loader = tf.train.import_meta_graph(load_dir + '.meta')\n",
    "    loader.restore(sess, load_dir)\n",
    "\n",
    "    # Get Tensors from loaded model\n",
    "    input_text, initial_state, final_state, probs = get_tensors(loaded_graph)\n",
    "\n",
    "    # Sentences generation setup\n",
    "    gen_sentences = [prime_word + ':']\n",
    "    prev_state = sess.run(initial_state, {input_text: np.array([[1]])})\n",
    "\n",
    "    # Generate sentences\n",
    "    for n in range(gen_length):\n",
    "        # Dynamic Input\n",
    "        dyn_input = [[vocab_to_int[word] for word in gen_sentences[-seq_length:]]]\n",
    "        dyn_seq_length = len(dyn_input[0])\n",
    "\n",
    "        # Get Prediction\n",
    "        probabilities, prev_state = sess.run(\n",
    "            [probs, final_state],\n",
    "            {input_text: dyn_input, initial_state: prev_state})\n",
    "        \n",
    "        pred_word = pick_word(probabilities[dyn_seq_length-1], int_to_vocab)\n",
    "\n",
    "        gen_sentences.append(pred_word)\n",
    "    \n",
    "    # Remove tokens\n",
    "    tv_script = ' '.join(gen_sentences)\n",
    "    for key, token in token_dict.items():\n",
    "        ending = ' ' if key in ['\\n', '(', '\"'] else ''\n",
    "        tv_script = tv_script.replace(' ' + token.lower(), key)\n",
    "    tv_script = tv_script.replace('\\n ', '\\n')\n",
    "    tv_script = tv_script.replace('( ', '(')\n",
    "        \n",
    "    print(tv_script)"
   ]
  },
  {
   "cell_type": "markdown",
   "metadata": {
    "deletable": true,
    "editable": true
   },
   "source": [
    "# The TV Script is Nonsensical\n",
    "It's ok if the TV script doesn't make any sense.  We trained on less than a megabyte of text.  In order to get good results, you'll have to use a smaller vocabulary or get more data.  Luckly there's more data!  As we mentioned in the begging of this project, this is a subset of [another dataset](https://www.kaggle.com/wcukierski/the-simpsons-by-the-data).  We didn't have you train on all the data, because that would take too long.  However, you are free to train your neural network on all the data.  After you complete the project, of course.\n",
    "# Submitting This Project\n",
    "When submitting this project, make sure to run all the cells before saving the notebook. Save the notebook file as \"dlnd_tv_script_generation.ipynb\" and save it as a HTML file under \"File\" -> \"Download as\". Include the \"helper.py\" and \"problem_unittests.py\" files in your submission."
   ]
  }
 ],
 "metadata": {
  "kernelspec": {
   "display_name": "Python 3",
   "language": "python",
   "name": "python3"
  },
  "language_info": {
   "codemirror_mode": {
    "name": "ipython",
    "version": 3
   },
   "file_extension": ".py",
   "mimetype": "text/x-python",
   "name": "python",
   "nbconvert_exporter": "python",
   "pygments_lexer": "ipython3",
   "version": "3.5.3"
  },
  "widgets": {
   "state": {},
   "version": "1.1.2"
  }
 },
 "nbformat": 4,
 "nbformat_minor": 0
}
